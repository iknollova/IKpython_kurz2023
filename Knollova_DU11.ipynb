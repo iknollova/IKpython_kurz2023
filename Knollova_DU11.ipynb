{
 "cells": [
  {
   "cell_type": "markdown",
   "metadata": {},
   "source": [
    "ukol-11\n",
    "\n",
    "    Pomocí nástroje regex101 vymysli regulární výraz, který označí platná data a neoznačí neplatná data:\n",
    "\n",
    "    platná data:\n",
    "\n",
    "2.2.2022\n",
    "13. 8. 1999\n",
    "4/5/2001\n",
    "\n",
    "    neplatná data:\n",
    "\n",
    "5.123.458.91\n",
    "21.4\n",
    "8./9\n"
   ]
  },
  {
   "cell_type": "code",
   "execution_count": 1,
   "metadata": {},
   "outputs": [],
   "source": [
    "import re\n"
   ]
  },
  {
   "cell_type": "code",
   "execution_count": 2,
   "metadata": {},
   "outputs": [],
   "source": [
    "ukol= \"\"\"\n",
    "pomocí nástroje regex101 vymysli regulární výraz, který označí platná data a neoznačí neplatná data:\n",
    "\n",
    "    platná data:\n",
    "\n",
    "2.2.2022\n",
    "13. 8. 1999\n",
    "4/5/2001\n",
    "\n",
    "    neplatná data:\n",
    "\n",
    "5.123.458.91\n",
    "21.4\n",
    "8./9\n",
    "\"\"\"\n"
   ]
  },
  {
   "cell_type": "code",
   "execution_count": 5,
   "metadata": {},
   "outputs": [
    {
     "name": "stdout",
     "output_type": "stream",
     "text": [
      "\n",
      "pomocí nástroje regex101 vymysli regulární výraz, který označí platná data a neoznačí neplatná data:\n",
      "\n",
      "    platná data:\n",
      "\n",
      "2.2.2022\n",
      "13. 8. 1999\n",
      "4/5/2001\n",
      "\n",
      "    neplatná data:\n",
      "\n",
      "5.123.458.91\n",
      "21.4\n",
      "8./9\n",
      "\n"
     ]
    }
   ],
   "source": [
    "print(ukol)\n"
   ]
  },
  {
   "cell_type": "code",
   "execution_count": 6,
   "metadata": {},
   "outputs": [
    {
     "data": {
      "text/plain": [
       "['2.2.2022', '13. 8. 1999', '4/5/2001']"
      ]
     },
     "execution_count": 6,
     "metadata": {},
     "output_type": "execute_result"
    }
   ],
   "source": [
    "regex_date=re.compile(r\"\\d{1,2}[.|\\/] ?\\d{1,2}[.|\\/] ?\\d{4}\")\n",
    "regex_date.findall(ukol)\n"
   ]
  },
  {
   "cell_type": "markdown",
   "metadata": {},
   "source": [
    "přímo v Regexu \n",
    "^\\d{1,2}[.|\\/] ?\\d{1,2}[.|\\/] ?\\d{4}"
   ]
  },
  {
   "cell_type": "markdown",
   "metadata": {},
   "source": [
    "Ukol2\n",
    "Zkopíruj si obsah souboru posta.txt do regex101 jako testovací řetězec. Vymysli regulární výraz, který označí všechny \"poslední řádky adresy\" v textu. Poslední řádka adresy zpravidla obsahuje PSČ a název obce, například 190 16 PRAHA 916 nebo 742 45 FULNEK. Celkem by jich mělo být 18."
   ]
  },
  {
   "cell_type": "markdown",
   "metadata": {},
   "source": [
    "Tento úkol mi nejde v Pythonu protože neumí opakovat skupiny v závorkách.\n",
    "V regexu funguje:\n",
    "\\d{3} \\d{2} +(\\S+ ?){1,}"
   ]
  },
  {
   "cell_type": "code",
   "execution_count": 7,
   "metadata": {},
   "outputs": [],
   "source": [
    "posta= \"\"\"\n",
    "Běžná poštovní adresa zásilky\n",
    "adresované fyzické osobě\n",
    "Poštovní adresa zásilky adresované\n",
    "právnické osobě\n",
    "Paní\n",
    "Božena Novotná\n",
    "Stavbařů 4211\n",
    "190 16 PRAHA 916\n",
    "MOTOSPORT, a. s.\n",
    "do rukou p. Ptáčka\n",
    "Plantážníků 421\n",
    "378 08 DVORY NAD LUŽNICÍ\n",
    "Poštovní adresa zásilky adresované\n",
    "fyzické osobě do vlastních rukou,\n",
    "doplněná datem narození\tPoštovní adresa zásilky adresované\n",
    "fyzické osobě k dodání\n",
    "prostřednictvím právnické osoby\n",
    "Paní\n",
    "Božena Novotná\n",
    "nar. 1. 4. 1946\n",
    "Stavbařů 4211\n",
    "190 16 PRAHA 916\n",
    "Pan\n",
    "Václav Ptáček\n",
    "MOTOSPORT, a. s.\n",
    "Plantážníků 421\n",
    "378 08 DVORY NAD LUŽNICÍ\n",
    "Poštovní adresa zásilky adresované\n",
    "fyzické osobě k dodání\n",
    "prostřednictvím jiné osoby\tPoštovní adresa zásilky adresované\n",
    "ústavnímu činiteli, která má být\n",
    "dodána jako právnické osobě\n",
    "Slečna\n",
    "Kamila Zelená\n",
    "u p. T. Červeného\n",
    "Borovského 33\n",
    "186 00 PRAHA 86\n",
    "Vážená paní\n",
    "Václava Kroupová, senátorka PČR\n",
    "Valdštejnské náměstí 17/4\n",
    "118 00 PRAHA 011\n",
    "Poštovní adresa zásilky adresované\n",
    "fyzické osobě poste restante\n",
    "Běžná poštovní adresa zásilky adresované\n",
    "právnické osobě\n",
    "Vážený pan\n",
    "MUDr. Matěj Kopecký\n",
    "poste restante\n",
    "397 04 PÍSEK 4\n",
    "OKNOPLAST, a. s.\n",
    "nám. Svobody 45\n",
    "460 15 LIBEREC 15\n",
    "Poštovní adresa zásilky adresované\n",
    "právnické osobě (přesné označení je\n",
    "důležité pro vyloučení záměny\n",
    "s fyzickou osobou)\tPoštovní adresa zásilky adresované\n",
    "daňovému poradci, advokátovi,\n",
    "soudnímu exekutorovi, notáři, nebo\n",
    "patentovému zástupci, která má být\n",
    "dodána jako právnické osobě\n",
    "Firma\n",
    "Vojtěch Pavlát, s. r. o.\n",
    "Truhlářská 7\n",
    "623 00 BRNO 23\n",
    "Mgr. Eva Hásková\n",
    "daňová poradkyně\n",
    "Věnceslava Metelky 114\n",
    "512 11 VYSOKÉ NAD JIZEROU\n",
    "Poštovní adresa zásilky adresované\n",
    "několika osobám do místa, kde není\n",
    "používán systém ulic\n",
    "Poštovní adresa zásilky adresované\n",
    "podnikateli, který je fyzickou osobou,\n",
    "která má být dodána jako právnické\n",
    "osobě\n",
    "Sourozenci\n",
    "Karel a Bedřich Weberovi\n",
    "č. p. 8\n",
    "378 07 RAPŠACH\n",
    "Pan\n",
    "Josef Novák, podnikatel\n",
    "Hlavní 1234\n",
    "130 00 PRAHA 3\n",
    "Poštovní adresa zásilky adresované\n",
    "do poštovní přihrádky\n",
    "Poštovní adresa zásilky adresované\n",
    "do obce, ve které nesídlí adresní pošta\n",
    "Pan\n",
    "František Koucký\n",
    "poštovní přihrádka 72\n",
    "273 01 KAMENNÉ ŽEHROVICE\n",
    "Vážená paní\n",
    "Marie Kousalová\n",
    "Roprachtice 129\n",
    "513 01 SEMILY\n",
    "Poštovní adresa zásilky adresované\n",
    "do dodávací schrány\tPoštovní adresa zásilky Balík Na Poštu\n",
    "Pan\n",
    "Bohumil Frkal\n",
    "dodávací schrána B/52\n",
    "398 11 PROTIVÍN\n",
    "Eva Drobná\n",
    "NA POŠTU\n",
    "742 45 FULNEK\n",
    "+420 777 123 456\n",
    "(vždy uveďte mob. tel. číslo)             \n",
    "Poštovní adresa zásilky adresované fyzické osobě,\n",
    "jejíž zdravotní stav nedovoluje vyzvednutí,\n",
    "k dodání prostřednictvím právnické osoby\n",
    "Poštovní adresa zásilky adresované fyzické osobě,\n",
    "jejíž omezení pohybu nedovoluje vyzvednutí,\n",
    "k dodání prostřednictvím právnické osoby\n",
    "Paní\n",
    "Jamila Nováková, 5. 8. 1982\n",
    "Fakultní nemocnice v Motole\n",
    "I. ortopedická klinika, 2. lůžkové oddělení\n",
    "V Úvalu 84\n",
    "150 06  PRAHA 5\n",
    "Pan\n",
    "Jan Novák, 28. 2. 1956\n",
    "Věznice Valdice\n",
    "Nám. Míru 55\n",
    "507 11  VALDICE\n",
    "\"\"\"\n"
   ]
  }
 ],
 "metadata": {
  "kernelspec": {
   "display_name": "Python 3",
   "language": "python",
   "name": "python3"
  },
  "language_info": {
   "codemirror_mode": {
    "name": "ipython",
    "version": 3
   },
   "file_extension": ".py",
   "mimetype": "text/x-python",
   "name": "python",
   "nbconvert_exporter": "python",
   "pygments_lexer": "ipython3",
   "version": "3.12.0"
  }
 },
 "nbformat": 4,
 "nbformat_minor": 2
}
